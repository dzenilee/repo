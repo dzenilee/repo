{
 "cells": [
  {
   "cell_type": "code",
   "execution_count": 3,
   "metadata": {},
   "outputs": [],
   "source": [
    "import re\n",
    "regex = re.compile(\n",
    "    r'^(?:http|ftp)s?://'  # http:// or https://\n",
    "    r'(?:(?:[A-Z0-9](?:[A-Z0-9-]{0,61}[A-Z0-9])?\\.)+(?:[A-Z]{2,6}\\.?|[A-Z0-9-]{2,}\\.?)|'  # domain...\n",
    "    r'localhost|'  # localhost...\n",
    "    r'\\d{1,3}\\.\\d{1,3}\\.\\d{1,3}\\.\\d{1,3})'  # ...or ip\n",
    "    r'(?::\\d+)?'  # optional port\n",
    "    r'(?:/?|[/?]\\S+)$', re.IGNORECASE)"
   ]
  },
  {
   "cell_type": "code",
   "execution_count": 4,
   "metadata": {},
   "outputs": [],
   "source": [
    "def get_missing_capitalization_simplified(word):\n",
    "    if (re.search('\\.[a-z]\\.', word) and\n",
    "        not re.search(regex, word) and\n",
    "        word not in {'e.g.', 'i.e.', 'a.m.', 'p.m.'} and\n",
    "        len(word) < 25):\n",
    "        print('capitalize!')\n",
    "    else:\n",
    "        print('no need to capitalize')"
   ]
  },
  {
   "cell_type": "code",
   "execution_count": 7,
   "metadata": {},
   "outputs": [
    {
     "name": "stdout",
     "output_type": "stream",
     "text": [
      "no need to capitalize\n"
     ]
    }
   ],
   "source": [
    "get_missing_capitalization_simplified('http://localhost:8888/notebooks/data/Untitled.ipynb?kernel_name=python3#')"
   ]
  },
  {
   "cell_type": "code",
   "execution_count": 8,
   "metadata": {},
   "outputs": [
    {
     "name": "stdout",
     "output_type": "stream",
     "text": [
      "capitalize!\n"
     ]
    }
   ],
   "source": [
    "get_missing_capitalization_simplified('y.m.c.a')"
   ]
  },
  {
   "cell_type": "code",
   "execution_count": 9,
   "metadata": {},
   "outputs": [
    {
     "name": "stdout",
     "output_type": "stream",
     "text": [
      "no need to capitalize\n"
     ]
    }
   ],
   "source": [
    "get_missing_capitalization_simplified('http://web.b.ebscohost.com')"
   ]
  },
  {
   "cell_type": "code",
   "execution_count": 10,
   "metadata": {},
   "outputs": [
    {
     "name": "stdout",
     "output_type": "stream",
     "text": [
      "no need to capitalize\n"
     ]
    }
   ],
   "source": [
    "get_missing_capitalization_simplified('web.b.ebscohost.com')"
   ]
  },
  {
   "cell_type": "code",
   "execution_count": 11,
   "metadata": {},
   "outputs": [
    {
     "name": "stdout",
     "output_type": "stream",
     "text": [
      "capitalize!\n"
     ]
    }
   ],
   "source": [
    "get_missing_capitalization_simplified('ym.c.a')"
   ]
  },
  {
   "cell_type": "code",
   "execution_count": null,
   "metadata": {},
   "outputs": [],
   "source": []
  }
 ],
 "metadata": {
  "kernelspec": {
   "display_name": "Python 3",
   "language": "python",
   "name": "python3"
  },
  "language_info": {
   "codemirror_mode": {
    "name": "ipython",
    "version": 2
   },
   "file_extension": ".py",
   "mimetype": "text/x-python",
   "name": "python",
   "nbconvert_exporter": "python",
   "pygments_lexer": "ipython2",
   "version": "2.7.10"
  }
 },
 "nbformat": 4,
 "nbformat_minor": 2
}
